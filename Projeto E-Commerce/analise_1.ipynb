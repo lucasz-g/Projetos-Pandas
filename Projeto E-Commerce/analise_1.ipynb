{
 "cells": [
  {
   "cell_type": "code",
   "execution_count": 9,
   "metadata": {},
   "outputs": [],
   "source": [
    "import pandas as pd"
   ]
  },
  {
   "cell_type": "code",
   "execution_count": 30,
   "metadata": {},
   "outputs": [
    {
     "data": {
      "text/html": [
       "<div>\n",
       "<style scoped>\n",
       "    .dataframe tbody tr th:only-of-type {\n",
       "        vertical-align: middle;\n",
       "    }\n",
       "\n",
       "    .dataframe tbody tr th {\n",
       "        vertical-align: top;\n",
       "    }\n",
       "\n",
       "    .dataframe thead th {\n",
       "        text-align: right;\n",
       "    }\n",
       "</style>\n",
       "<table border=\"1\" class=\"dataframe\">\n",
       "  <thead>\n",
       "    <tr style=\"text-align: right;\">\n",
       "      <th></th>\n",
       "      <th>Date</th>\n",
       "      <th>Product_Category</th>\n",
       "      <th>Price</th>\n",
       "      <th>Discount</th>\n",
       "      <th>Customer_Segment</th>\n",
       "      <th>Marketing_Spend</th>\n",
       "      <th>Units_Sold</th>\n",
       "    </tr>\n",
       "  </thead>\n",
       "  <tbody>\n",
       "    <tr>\n",
       "      <th>0</th>\n",
       "      <td>01-01-2023</td>\n",
       "      <td>Sports</td>\n",
       "      <td>932.80</td>\n",
       "      <td>35.82</td>\n",
       "      <td>Occasional</td>\n",
       "      <td>6780.38</td>\n",
       "      <td>32</td>\n",
       "    </tr>\n",
       "    <tr>\n",
       "      <th>1</th>\n",
       "      <td>02-01-2023</td>\n",
       "      <td>Toys</td>\n",
       "      <td>569.48</td>\n",
       "      <td>3.60</td>\n",
       "      <td>Premium</td>\n",
       "      <td>6807.56</td>\n",
       "      <td>16</td>\n",
       "    </tr>\n",
       "    <tr>\n",
       "      <th>2</th>\n",
       "      <td>03-01-2023</td>\n",
       "      <td>Home Decor</td>\n",
       "      <td>699.68</td>\n",
       "      <td>3.56</td>\n",
       "      <td>Premium</td>\n",
       "      <td>3793.91</td>\n",
       "      <td>27</td>\n",
       "    </tr>\n",
       "    <tr>\n",
       "      <th>3</th>\n",
       "      <td>04-01-2023</td>\n",
       "      <td>Toys</td>\n",
       "      <td>923.27</td>\n",
       "      <td>0.61</td>\n",
       "      <td>Premium</td>\n",
       "      <td>9422.75</td>\n",
       "      <td>29</td>\n",
       "    </tr>\n",
       "    <tr>\n",
       "      <th>4</th>\n",
       "      <td>05-01-2023</td>\n",
       "      <td>Toys</td>\n",
       "      <td>710.17</td>\n",
       "      <td>47.83</td>\n",
       "      <td>Premium</td>\n",
       "      <td>1756.83</td>\n",
       "      <td>17</td>\n",
       "    </tr>\n",
       "  </tbody>\n",
       "</table>\n",
       "</div>"
      ],
      "text/plain": [
       "         Date Product_Category   Price  Discount Customer_Segment  \\\n",
       "0  01-01-2023           Sports  932.80     35.82       Occasional   \n",
       "1  02-01-2023             Toys  569.48      3.60          Premium   \n",
       "2  03-01-2023       Home Decor  699.68      3.56          Premium   \n",
       "3  04-01-2023             Toys  923.27      0.61          Premium   \n",
       "4  05-01-2023             Toys  710.17     47.83          Premium   \n",
       "\n",
       "   Marketing_Spend  Units_Sold  \n",
       "0          6780.38          32  \n",
       "1          6807.56          16  \n",
       "2          3793.91          27  \n",
       "3          9422.75          29  \n",
       "4          1756.83          17  "
      ]
     },
     "execution_count": 30,
     "metadata": {},
     "output_type": "execute_result"
    }
   ],
   "source": [
    "path = './dados/Ecommerce_Sales_Prediction_Dataset.csv'\n",
    "dados = pd.read_csv(path)\n",
    "df = pd.DataFrame(dados)\n",
    "df.head()"
   ]
  },
  {
   "cell_type": "markdown",
   "metadata": {},
   "source": [
    "# Filtro Simples"
   ]
  },
  {
   "cell_type": "code",
   "execution_count": 17,
   "metadata": {},
   "outputs": [
    {
     "data": {
      "text/html": [
       "<div>\n",
       "<style scoped>\n",
       "    .dataframe tbody tr th:only-of-type {\n",
       "        vertical-align: middle;\n",
       "    }\n",
       "\n",
       "    .dataframe tbody tr th {\n",
       "        vertical-align: top;\n",
       "    }\n",
       "\n",
       "    .dataframe thead th {\n",
       "        text-align: right;\n",
       "    }\n",
       "</style>\n",
       "<table border=\"1\" class=\"dataframe\">\n",
       "  <thead>\n",
       "    <tr style=\"text-align: right;\">\n",
       "      <th></th>\n",
       "      <th>Date</th>\n",
       "      <th>Product_Category</th>\n",
       "      <th>Price</th>\n",
       "      <th>Discount</th>\n",
       "      <th>Customer_Segment</th>\n",
       "      <th>Marketing_Spend</th>\n",
       "      <th>Units_Sold</th>\n",
       "    </tr>\n",
       "  </thead>\n",
       "  <tbody>\n",
       "    <tr>\n",
       "      <th>1</th>\n",
       "      <td>02-01-2023</td>\n",
       "      <td>Toys</td>\n",
       "      <td>569.48</td>\n",
       "      <td>3.60</td>\n",
       "      <td>Premium</td>\n",
       "      <td>6807.56</td>\n",
       "      <td>16</td>\n",
       "    </tr>\n",
       "    <tr>\n",
       "      <th>3</th>\n",
       "      <td>04-01-2023</td>\n",
       "      <td>Toys</td>\n",
       "      <td>923.27</td>\n",
       "      <td>0.61</td>\n",
       "      <td>Premium</td>\n",
       "      <td>9422.75</td>\n",
       "      <td>29</td>\n",
       "    </tr>\n",
       "    <tr>\n",
       "      <th>4</th>\n",
       "      <td>05-01-2023</td>\n",
       "      <td>Toys</td>\n",
       "      <td>710.17</td>\n",
       "      <td>47.83</td>\n",
       "      <td>Premium</td>\n",
       "      <td>1756.83</td>\n",
       "      <td>17</td>\n",
       "    </tr>\n",
       "    <tr>\n",
       "      <th>9</th>\n",
       "      <td>10-01-2023</td>\n",
       "      <td>Toys</td>\n",
       "      <td>739.08</td>\n",
       "      <td>38.73</td>\n",
       "      <td>Regular</td>\n",
       "      <td>2825.35</td>\n",
       "      <td>28</td>\n",
       "    </tr>\n",
       "    <tr>\n",
       "      <th>12</th>\n",
       "      <td>13-01-2023</td>\n",
       "      <td>Toys</td>\n",
       "      <td>456.33</td>\n",
       "      <td>8.71</td>\n",
       "      <td>Occasional</td>\n",
       "      <td>6033.09</td>\n",
       "      <td>37</td>\n",
       "    </tr>\n",
       "    <tr>\n",
       "      <th>...</th>\n",
       "      <td>...</td>\n",
       "      <td>...</td>\n",
       "      <td>...</td>\n",
       "      <td>...</td>\n",
       "      <td>...</td>\n",
       "      <td>...</td>\n",
       "      <td>...</td>\n",
       "    </tr>\n",
       "    <tr>\n",
       "      <th>972</th>\n",
       "      <td>30-08-2025</td>\n",
       "      <td>Toys</td>\n",
       "      <td>382.13</td>\n",
       "      <td>25.03</td>\n",
       "      <td>Occasional</td>\n",
       "      <td>7313.70</td>\n",
       "      <td>26</td>\n",
       "    </tr>\n",
       "    <tr>\n",
       "      <th>973</th>\n",
       "      <td>31-08-2025</td>\n",
       "      <td>Toys</td>\n",
       "      <td>400.53</td>\n",
       "      <td>33.98</td>\n",
       "      <td>Premium</td>\n",
       "      <td>3222.10</td>\n",
       "      <td>30</td>\n",
       "    </tr>\n",
       "    <tr>\n",
       "      <th>976</th>\n",
       "      <td>03-09-2025</td>\n",
       "      <td>Toys</td>\n",
       "      <td>893.16</td>\n",
       "      <td>40.35</td>\n",
       "      <td>Occasional</td>\n",
       "      <td>1059.96</td>\n",
       "      <td>29</td>\n",
       "    </tr>\n",
       "    <tr>\n",
       "      <th>986</th>\n",
       "      <td>13-09-2025</td>\n",
       "      <td>Toys</td>\n",
       "      <td>466.86</td>\n",
       "      <td>49.06</td>\n",
       "      <td>Occasional</td>\n",
       "      <td>7846.02</td>\n",
       "      <td>23</td>\n",
       "    </tr>\n",
       "    <tr>\n",
       "      <th>994</th>\n",
       "      <td>21-09-2025</td>\n",
       "      <td>Toys</td>\n",
       "      <td>158.67</td>\n",
       "      <td>35.59</td>\n",
       "      <td>Premium</td>\n",
       "      <td>9784.38</td>\n",
       "      <td>26</td>\n",
       "    </tr>\n",
       "  </tbody>\n",
       "</table>\n",
       "<p>204 rows × 7 columns</p>\n",
       "</div>"
      ],
      "text/plain": [
       "           Date Product_Category   Price  Discount Customer_Segment  \\\n",
       "1    02-01-2023             Toys  569.48      3.60          Premium   \n",
       "3    04-01-2023             Toys  923.27      0.61          Premium   \n",
       "4    05-01-2023             Toys  710.17     47.83          Premium   \n",
       "9    10-01-2023             Toys  739.08     38.73          Regular   \n",
       "12   13-01-2023             Toys  456.33      8.71       Occasional   \n",
       "..          ...              ...     ...       ...              ...   \n",
       "972  30-08-2025             Toys  382.13     25.03       Occasional   \n",
       "973  31-08-2025             Toys  400.53     33.98          Premium   \n",
       "976  03-09-2025             Toys  893.16     40.35       Occasional   \n",
       "986  13-09-2025             Toys  466.86     49.06       Occasional   \n",
       "994  21-09-2025             Toys  158.67     35.59          Premium   \n",
       "\n",
       "     Marketing_Spend  Units_Sold  \n",
       "1            6807.56          16  \n",
       "3            9422.75          29  \n",
       "4            1756.83          17  \n",
       "9            2825.35          28  \n",
       "12           6033.09          37  \n",
       "..               ...         ...  \n",
       "972          7313.70          26  \n",
       "973          3222.10          30  \n",
       "976          1059.96          29  \n",
       "986          7846.02          23  \n",
       "994          9784.38          26  \n",
       "\n",
       "[204 rows x 7 columns]"
      ]
     },
     "execution_count": 17,
     "metadata": {},
     "output_type": "execute_result"
    }
   ],
   "source": [
    "df[df['Product_Category'] == 'Toys']"
   ]
  },
  {
   "cell_type": "markdown",
   "metadata": {},
   "source": [
    "# Filtro Avançado"
   ]
  },
  {
   "cell_type": "code",
   "execution_count": 25,
   "metadata": {},
   "outputs": [
    {
     "data": {
      "text/html": [
       "<div>\n",
       "<style scoped>\n",
       "    .dataframe tbody tr th:only-of-type {\n",
       "        vertical-align: middle;\n",
       "    }\n",
       "\n",
       "    .dataframe tbody tr th {\n",
       "        vertical-align: top;\n",
       "    }\n",
       "\n",
       "    .dataframe thead th {\n",
       "        text-align: right;\n",
       "    }\n",
       "</style>\n",
       "<table border=\"1\" class=\"dataframe\">\n",
       "  <thead>\n",
       "    <tr style=\"text-align: right;\">\n",
       "      <th></th>\n",
       "      <th>Date</th>\n",
       "      <th>Product_Category</th>\n",
       "      <th>Price</th>\n",
       "      <th>Discount</th>\n",
       "      <th>Customer_Segment</th>\n",
       "      <th>Marketing_Spend</th>\n",
       "      <th>Units_Sold</th>\n",
       "    </tr>\n",
       "  </thead>\n",
       "  <tbody>\n",
       "    <tr>\n",
       "      <th>0</th>\n",
       "      <td>01-01-2023</td>\n",
       "      <td>Sports</td>\n",
       "      <td>932.80</td>\n",
       "      <td>35.82</td>\n",
       "      <td>Occasional</td>\n",
       "      <td>6780.38</td>\n",
       "      <td>32</td>\n",
       "    </tr>\n",
       "    <tr>\n",
       "      <th>3</th>\n",
       "      <td>04-01-2023</td>\n",
       "      <td>Toys</td>\n",
       "      <td>923.27</td>\n",
       "      <td>0.61</td>\n",
       "      <td>Premium</td>\n",
       "      <td>9422.75</td>\n",
       "      <td>29</td>\n",
       "    </tr>\n",
       "    <tr>\n",
       "      <th>10</th>\n",
       "      <td>11-01-2023</td>\n",
       "      <td>Sports</td>\n",
       "      <td>935.02</td>\n",
       "      <td>33.07</td>\n",
       "      <td>Premium</td>\n",
       "      <td>1646.45</td>\n",
       "      <td>26</td>\n",
       "    </tr>\n",
       "    <tr>\n",
       "      <th>11</th>\n",
       "      <td>12-01-2023</td>\n",
       "      <td>Home Decor</td>\n",
       "      <td>926.31</td>\n",
       "      <td>9.26</td>\n",
       "      <td>Regular</td>\n",
       "      <td>6395.81</td>\n",
       "      <td>26</td>\n",
       "    </tr>\n",
       "    <tr>\n",
       "      <th>14</th>\n",
       "      <td>15-01-2023</td>\n",
       "      <td>Sports</td>\n",
       "      <td>984.99</td>\n",
       "      <td>33.02</td>\n",
       "      <td>Regular</td>\n",
       "      <td>7080.88</td>\n",
       "      <td>27</td>\n",
       "    </tr>\n",
       "    <tr>\n",
       "      <th>...</th>\n",
       "      <td>...</td>\n",
       "      <td>...</td>\n",
       "      <td>...</td>\n",
       "      <td>...</td>\n",
       "      <td>...</td>\n",
       "      <td>...</td>\n",
       "      <td>...</td>\n",
       "    </tr>\n",
       "    <tr>\n",
       "      <th>976</th>\n",
       "      <td>03-09-2025</td>\n",
       "      <td>Toys</td>\n",
       "      <td>893.16</td>\n",
       "      <td>40.35</td>\n",
       "      <td>Occasional</td>\n",
       "      <td>1059.96</td>\n",
       "      <td>29</td>\n",
       "    </tr>\n",
       "    <tr>\n",
       "      <th>977</th>\n",
       "      <td>04-09-2025</td>\n",
       "      <td>Fashion</td>\n",
       "      <td>955.78</td>\n",
       "      <td>22.98</td>\n",
       "      <td>Regular</td>\n",
       "      <td>1872.41</td>\n",
       "      <td>27</td>\n",
       "    </tr>\n",
       "    <tr>\n",
       "      <th>983</th>\n",
       "      <td>10-09-2025</td>\n",
       "      <td>Fashion</td>\n",
       "      <td>842.46</td>\n",
       "      <td>10.46</td>\n",
       "      <td>Occasional</td>\n",
       "      <td>820.08</td>\n",
       "      <td>23</td>\n",
       "    </tr>\n",
       "    <tr>\n",
       "      <th>985</th>\n",
       "      <td>12-09-2025</td>\n",
       "      <td>Home Decor</td>\n",
       "      <td>902.74</td>\n",
       "      <td>42.18</td>\n",
       "      <td>Occasional</td>\n",
       "      <td>3564.38</td>\n",
       "      <td>36</td>\n",
       "    </tr>\n",
       "    <tr>\n",
       "      <th>989</th>\n",
       "      <td>16-09-2025</td>\n",
       "      <td>Fashion</td>\n",
       "      <td>896.17</td>\n",
       "      <td>12.10</td>\n",
       "      <td>Regular</td>\n",
       "      <td>8755.64</td>\n",
       "      <td>23</td>\n",
       "    </tr>\n",
       "  </tbody>\n",
       "</table>\n",
       "<p>208 rows × 7 columns</p>\n",
       "</div>"
      ],
      "text/plain": [
       "           Date Product_Category   Price  Discount Customer_Segment  \\\n",
       "0    01-01-2023           Sports  932.80     35.82       Occasional   \n",
       "3    04-01-2023             Toys  923.27      0.61          Premium   \n",
       "10   11-01-2023           Sports  935.02     33.07          Premium   \n",
       "11   12-01-2023       Home Decor  926.31      9.26          Regular   \n",
       "14   15-01-2023           Sports  984.99     33.02          Regular   \n",
       "..          ...              ...     ...       ...              ...   \n",
       "976  03-09-2025             Toys  893.16     40.35       Occasional   \n",
       "977  04-09-2025          Fashion  955.78     22.98          Regular   \n",
       "983  10-09-2025          Fashion  842.46     10.46       Occasional   \n",
       "985  12-09-2025       Home Decor  902.74     42.18       Occasional   \n",
       "989  16-09-2025          Fashion  896.17     12.10          Regular   \n",
       "\n",
       "     Marketing_Spend  Units_Sold  \n",
       "0            6780.38          32  \n",
       "3            9422.75          29  \n",
       "10           1646.45          26  \n",
       "11           6395.81          26  \n",
       "14           7080.88          27  \n",
       "..               ...         ...  \n",
       "976          1059.96          29  \n",
       "977          1872.41          27  \n",
       "983           820.08          23  \n",
       "985          3564.38          36  \n",
       "989          8755.64          23  \n",
       "\n",
       "[208 rows x 7 columns]"
      ]
     },
     "execution_count": 25,
     "metadata": {},
     "output_type": "execute_result"
    }
   ],
   "source": [
    "# dados[(dados['Price'] > 800) &( dados['Discount'] < 50)]\n",
    "df.query('Price > 800 and Discount < 50')"
   ]
  },
  {
   "cell_type": "markdown",
   "metadata": {},
   "source": [
    "# Agrupando por Categoria"
   ]
  },
  {
   "cell_type": "code",
   "execution_count": 31,
   "metadata": {},
   "outputs": [
    {
     "data": {
      "text/html": [
       "<div>\n",
       "<style scoped>\n",
       "    .dataframe tbody tr th:only-of-type {\n",
       "        vertical-align: middle;\n",
       "    }\n",
       "\n",
       "    .dataframe tbody tr th {\n",
       "        vertical-align: top;\n",
       "    }\n",
       "\n",
       "    .dataframe thead th {\n",
       "        text-align: right;\n",
       "    }\n",
       "</style>\n",
       "<table border=\"1\" class=\"dataframe\">\n",
       "  <thead>\n",
       "    <tr style=\"text-align: right;\">\n",
       "      <th></th>\n",
       "      <th>Units_Sold</th>\n",
       "    </tr>\n",
       "    <tr>\n",
       "      <th>Product_Category</th>\n",
       "      <th></th>\n",
       "    </tr>\n",
       "  </thead>\n",
       "  <tbody>\n",
       "    <tr>\n",
       "      <th>Electronics</th>\n",
       "      <td>6210</td>\n",
       "    </tr>\n",
       "    <tr>\n",
       "      <th>Fashion</th>\n",
       "      <td>5650</td>\n",
       "    </tr>\n",
       "    <tr>\n",
       "      <th>Home Decor</th>\n",
       "      <td>5643</td>\n",
       "    </tr>\n",
       "    <tr>\n",
       "      <th>Sports</th>\n",
       "      <td>6125</td>\n",
       "    </tr>\n",
       "    <tr>\n",
       "      <th>Toys</th>\n",
       "      <td>6003</td>\n",
       "    </tr>\n",
       "  </tbody>\n",
       "</table>\n",
       "</div>"
      ],
      "text/plain": [
       "                  Units_Sold\n",
       "Product_Category            \n",
       "Electronics             6210\n",
       "Fashion                 5650\n",
       "Home Decor              5643\n",
       "Sports                  6125\n",
       "Toys                    6003"
      ]
     },
     "execution_count": 31,
     "metadata": {},
     "output_type": "execute_result"
    }
   ],
   "source": [
    "df.groupby('Product_Category')[['Units_Sold']].sum()"
   ]
  },
  {
   "cell_type": "markdown",
   "metadata": {},
   "source": [
    "### Gráfico"
   ]
  },
  {
   "cell_type": "code",
   "execution_count": 40,
   "metadata": {},
   "outputs": [],
   "source": [
    "import plotly.express as px"
   ]
  },
  {
   "cell_type": "code",
   "execution_count": 43,
   "metadata": {},
   "outputs": [
    {
     "data": {
      "application/vnd.plotly.v1+json": {
       "config": {
        "plotlyServerURL": "https://plot.ly"
       },
       "data": [
        {
         "alignmentgroup": "True",
         "hovertemplate": "variable=Units_Sold<br>Product_Category=%{x}<br>value=%{y}<extra></extra>",
         "legendgroup": "Units_Sold",
         "marker": {
          "color": "#636efa",
          "pattern": {
           "shape": ""
          }
         },
         "name": "Units_Sold",
         "offsetgroup": "Units_Sold",
         "orientation": "v",
         "showlegend": true,
         "textposition": "auto",
         "type": "bar",
         "x": [
          "Electronics",
          "Sports",
          "Toys",
          "Fashion",
          "Home Decor"
         ],
         "xaxis": "x",
         "y": [
          6210,
          6125,
          6003,
          5650,
          5643
         ],
         "yaxis": "y"
        }
       ],
       "layout": {
        "barmode": "relative",
        "legend": {
         "title": {
          "text": "variable"
         },
         "tracegroupgap": 0
        },
        "margin": {
         "t": 60
        },
        "template": {
         "data": {
          "bar": [
           {
            "error_x": {
             "color": "#2a3f5f"
            },
            "error_y": {
             "color": "#2a3f5f"
            },
            "marker": {
             "line": {
              "color": "#E5ECF6",
              "width": 0.5
             },
             "pattern": {
              "fillmode": "overlay",
              "size": 10,
              "solidity": 0.2
             }
            },
            "type": "bar"
           }
          ],
          "barpolar": [
           {
            "marker": {
             "line": {
              "color": "#E5ECF6",
              "width": 0.5
             },
             "pattern": {
              "fillmode": "overlay",
              "size": 10,
              "solidity": 0.2
             }
            },
            "type": "barpolar"
           }
          ],
          "carpet": [
           {
            "aaxis": {
             "endlinecolor": "#2a3f5f",
             "gridcolor": "white",
             "linecolor": "white",
             "minorgridcolor": "white",
             "startlinecolor": "#2a3f5f"
            },
            "baxis": {
             "endlinecolor": "#2a3f5f",
             "gridcolor": "white",
             "linecolor": "white",
             "minorgridcolor": "white",
             "startlinecolor": "#2a3f5f"
            },
            "type": "carpet"
           }
          ],
          "choropleth": [
           {
            "colorbar": {
             "outlinewidth": 0,
             "ticks": ""
            },
            "type": "choropleth"
           }
          ],
          "contour": [
           {
            "colorbar": {
             "outlinewidth": 0,
             "ticks": ""
            },
            "colorscale": [
             [
              0,
              "#0d0887"
             ],
             [
              0.1111111111111111,
              "#46039f"
             ],
             [
              0.2222222222222222,
              "#7201a8"
             ],
             [
              0.3333333333333333,
              "#9c179e"
             ],
             [
              0.4444444444444444,
              "#bd3786"
             ],
             [
              0.5555555555555556,
              "#d8576b"
             ],
             [
              0.6666666666666666,
              "#ed7953"
             ],
             [
              0.7777777777777778,
              "#fb9f3a"
             ],
             [
              0.8888888888888888,
              "#fdca26"
             ],
             [
              1,
              "#f0f921"
             ]
            ],
            "type": "contour"
           }
          ],
          "contourcarpet": [
           {
            "colorbar": {
             "outlinewidth": 0,
             "ticks": ""
            },
            "type": "contourcarpet"
           }
          ],
          "heatmap": [
           {
            "colorbar": {
             "outlinewidth": 0,
             "ticks": ""
            },
            "colorscale": [
             [
              0,
              "#0d0887"
             ],
             [
              0.1111111111111111,
              "#46039f"
             ],
             [
              0.2222222222222222,
              "#7201a8"
             ],
             [
              0.3333333333333333,
              "#9c179e"
             ],
             [
              0.4444444444444444,
              "#bd3786"
             ],
             [
              0.5555555555555556,
              "#d8576b"
             ],
             [
              0.6666666666666666,
              "#ed7953"
             ],
             [
              0.7777777777777778,
              "#fb9f3a"
             ],
             [
              0.8888888888888888,
              "#fdca26"
             ],
             [
              1,
              "#f0f921"
             ]
            ],
            "type": "heatmap"
           }
          ],
          "heatmapgl": [
           {
            "colorbar": {
             "outlinewidth": 0,
             "ticks": ""
            },
            "colorscale": [
             [
              0,
              "#0d0887"
             ],
             [
              0.1111111111111111,
              "#46039f"
             ],
             [
              0.2222222222222222,
              "#7201a8"
             ],
             [
              0.3333333333333333,
              "#9c179e"
             ],
             [
              0.4444444444444444,
              "#bd3786"
             ],
             [
              0.5555555555555556,
              "#d8576b"
             ],
             [
              0.6666666666666666,
              "#ed7953"
             ],
             [
              0.7777777777777778,
              "#fb9f3a"
             ],
             [
              0.8888888888888888,
              "#fdca26"
             ],
             [
              1,
              "#f0f921"
             ]
            ],
            "type": "heatmapgl"
           }
          ],
          "histogram": [
           {
            "marker": {
             "pattern": {
              "fillmode": "overlay",
              "size": 10,
              "solidity": 0.2
             }
            },
            "type": "histogram"
           }
          ],
          "histogram2d": [
           {
            "colorbar": {
             "outlinewidth": 0,
             "ticks": ""
            },
            "colorscale": [
             [
              0,
              "#0d0887"
             ],
             [
              0.1111111111111111,
              "#46039f"
             ],
             [
              0.2222222222222222,
              "#7201a8"
             ],
             [
              0.3333333333333333,
              "#9c179e"
             ],
             [
              0.4444444444444444,
              "#bd3786"
             ],
             [
              0.5555555555555556,
              "#d8576b"
             ],
             [
              0.6666666666666666,
              "#ed7953"
             ],
             [
              0.7777777777777778,
              "#fb9f3a"
             ],
             [
              0.8888888888888888,
              "#fdca26"
             ],
             [
              1,
              "#f0f921"
             ]
            ],
            "type": "histogram2d"
           }
          ],
          "histogram2dcontour": [
           {
            "colorbar": {
             "outlinewidth": 0,
             "ticks": ""
            },
            "colorscale": [
             [
              0,
              "#0d0887"
             ],
             [
              0.1111111111111111,
              "#46039f"
             ],
             [
              0.2222222222222222,
              "#7201a8"
             ],
             [
              0.3333333333333333,
              "#9c179e"
             ],
             [
              0.4444444444444444,
              "#bd3786"
             ],
             [
              0.5555555555555556,
              "#d8576b"
             ],
             [
              0.6666666666666666,
              "#ed7953"
             ],
             [
              0.7777777777777778,
              "#fb9f3a"
             ],
             [
              0.8888888888888888,
              "#fdca26"
             ],
             [
              1,
              "#f0f921"
             ]
            ],
            "type": "histogram2dcontour"
           }
          ],
          "mesh3d": [
           {
            "colorbar": {
             "outlinewidth": 0,
             "ticks": ""
            },
            "type": "mesh3d"
           }
          ],
          "parcoords": [
           {
            "line": {
             "colorbar": {
              "outlinewidth": 0,
              "ticks": ""
             }
            },
            "type": "parcoords"
           }
          ],
          "pie": [
           {
            "automargin": true,
            "type": "pie"
           }
          ],
          "scatter": [
           {
            "fillpattern": {
             "fillmode": "overlay",
             "size": 10,
             "solidity": 0.2
            },
            "type": "scatter"
           }
          ],
          "scatter3d": [
           {
            "line": {
             "colorbar": {
              "outlinewidth": 0,
              "ticks": ""
             }
            },
            "marker": {
             "colorbar": {
              "outlinewidth": 0,
              "ticks": ""
             }
            },
            "type": "scatter3d"
           }
          ],
          "scattercarpet": [
           {
            "marker": {
             "colorbar": {
              "outlinewidth": 0,
              "ticks": ""
             }
            },
            "type": "scattercarpet"
           }
          ],
          "scattergeo": [
           {
            "marker": {
             "colorbar": {
              "outlinewidth": 0,
              "ticks": ""
             }
            },
            "type": "scattergeo"
           }
          ],
          "scattergl": [
           {
            "marker": {
             "colorbar": {
              "outlinewidth": 0,
              "ticks": ""
             }
            },
            "type": "scattergl"
           }
          ],
          "scattermapbox": [
           {
            "marker": {
             "colorbar": {
              "outlinewidth": 0,
              "ticks": ""
             }
            },
            "type": "scattermapbox"
           }
          ],
          "scatterpolar": [
           {
            "marker": {
             "colorbar": {
              "outlinewidth": 0,
              "ticks": ""
             }
            },
            "type": "scatterpolar"
           }
          ],
          "scatterpolargl": [
           {
            "marker": {
             "colorbar": {
              "outlinewidth": 0,
              "ticks": ""
             }
            },
            "type": "scatterpolargl"
           }
          ],
          "scatterternary": [
           {
            "marker": {
             "colorbar": {
              "outlinewidth": 0,
              "ticks": ""
             }
            },
            "type": "scatterternary"
           }
          ],
          "surface": [
           {
            "colorbar": {
             "outlinewidth": 0,
             "ticks": ""
            },
            "colorscale": [
             [
              0,
              "#0d0887"
             ],
             [
              0.1111111111111111,
              "#46039f"
             ],
             [
              0.2222222222222222,
              "#7201a8"
             ],
             [
              0.3333333333333333,
              "#9c179e"
             ],
             [
              0.4444444444444444,
              "#bd3786"
             ],
             [
              0.5555555555555556,
              "#d8576b"
             ],
             [
              0.6666666666666666,
              "#ed7953"
             ],
             [
              0.7777777777777778,
              "#fb9f3a"
             ],
             [
              0.8888888888888888,
              "#fdca26"
             ],
             [
              1,
              "#f0f921"
             ]
            ],
            "type": "surface"
           }
          ],
          "table": [
           {
            "cells": {
             "fill": {
              "color": "#EBF0F8"
             },
             "line": {
              "color": "white"
             }
            },
            "header": {
             "fill": {
              "color": "#C8D4E3"
             },
             "line": {
              "color": "white"
             }
            },
            "type": "table"
           }
          ]
         },
         "layout": {
          "annotationdefaults": {
           "arrowcolor": "#2a3f5f",
           "arrowhead": 0,
           "arrowwidth": 1
          },
          "autotypenumbers": "strict",
          "coloraxis": {
           "colorbar": {
            "outlinewidth": 0,
            "ticks": ""
           }
          },
          "colorscale": {
           "diverging": [
            [
             0,
             "#8e0152"
            ],
            [
             0.1,
             "#c51b7d"
            ],
            [
             0.2,
             "#de77ae"
            ],
            [
             0.3,
             "#f1b6da"
            ],
            [
             0.4,
             "#fde0ef"
            ],
            [
             0.5,
             "#f7f7f7"
            ],
            [
             0.6,
             "#e6f5d0"
            ],
            [
             0.7,
             "#b8e186"
            ],
            [
             0.8,
             "#7fbc41"
            ],
            [
             0.9,
             "#4d9221"
            ],
            [
             1,
             "#276419"
            ]
           ],
           "sequential": [
            [
             0,
             "#0d0887"
            ],
            [
             0.1111111111111111,
             "#46039f"
            ],
            [
             0.2222222222222222,
             "#7201a8"
            ],
            [
             0.3333333333333333,
             "#9c179e"
            ],
            [
             0.4444444444444444,
             "#bd3786"
            ],
            [
             0.5555555555555556,
             "#d8576b"
            ],
            [
             0.6666666666666666,
             "#ed7953"
            ],
            [
             0.7777777777777778,
             "#fb9f3a"
            ],
            [
             0.8888888888888888,
             "#fdca26"
            ],
            [
             1,
             "#f0f921"
            ]
           ],
           "sequentialminus": [
            [
             0,
             "#0d0887"
            ],
            [
             0.1111111111111111,
             "#46039f"
            ],
            [
             0.2222222222222222,
             "#7201a8"
            ],
            [
             0.3333333333333333,
             "#9c179e"
            ],
            [
             0.4444444444444444,
             "#bd3786"
            ],
            [
             0.5555555555555556,
             "#d8576b"
            ],
            [
             0.6666666666666666,
             "#ed7953"
            ],
            [
             0.7777777777777778,
             "#fb9f3a"
            ],
            [
             0.8888888888888888,
             "#fdca26"
            ],
            [
             1,
             "#f0f921"
            ]
           ]
          },
          "colorway": [
           "#636efa",
           "#EF553B",
           "#00cc96",
           "#ab63fa",
           "#FFA15A",
           "#19d3f3",
           "#FF6692",
           "#B6E880",
           "#FF97FF",
           "#FECB52"
          ],
          "font": {
           "color": "#2a3f5f"
          },
          "geo": {
           "bgcolor": "white",
           "lakecolor": "white",
           "landcolor": "#E5ECF6",
           "showlakes": true,
           "showland": true,
           "subunitcolor": "white"
          },
          "hoverlabel": {
           "align": "left"
          },
          "hovermode": "closest",
          "mapbox": {
           "style": "light"
          },
          "paper_bgcolor": "white",
          "plot_bgcolor": "#E5ECF6",
          "polar": {
           "angularaxis": {
            "gridcolor": "white",
            "linecolor": "white",
            "ticks": ""
           },
           "bgcolor": "#E5ECF6",
           "radialaxis": {
            "gridcolor": "white",
            "linecolor": "white",
            "ticks": ""
           }
          },
          "scene": {
           "xaxis": {
            "backgroundcolor": "#E5ECF6",
            "gridcolor": "white",
            "gridwidth": 2,
            "linecolor": "white",
            "showbackground": true,
            "ticks": "",
            "zerolinecolor": "white"
           },
           "yaxis": {
            "backgroundcolor": "#E5ECF6",
            "gridcolor": "white",
            "gridwidth": 2,
            "linecolor": "white",
            "showbackground": true,
            "ticks": "",
            "zerolinecolor": "white"
           },
           "zaxis": {
            "backgroundcolor": "#E5ECF6",
            "gridcolor": "white",
            "gridwidth": 2,
            "linecolor": "white",
            "showbackground": true,
            "ticks": "",
            "zerolinecolor": "white"
           }
          },
          "shapedefaults": {
           "line": {
            "color": "#2a3f5f"
           }
          },
          "ternary": {
           "aaxis": {
            "gridcolor": "white",
            "linecolor": "white",
            "ticks": ""
           },
           "baxis": {
            "gridcolor": "white",
            "linecolor": "white",
            "ticks": ""
           },
           "bgcolor": "#E5ECF6",
           "caxis": {
            "gridcolor": "white",
            "linecolor": "white",
            "ticks": ""
           }
          },
          "title": {
           "x": 0.05
          },
          "xaxis": {
           "automargin": true,
           "gridcolor": "white",
           "linecolor": "white",
           "ticks": "",
           "title": {
            "standoff": 15
           },
           "zerolinecolor": "white",
           "zerolinewidth": 2
          },
          "yaxis": {
           "automargin": true,
           "gridcolor": "white",
           "linecolor": "white",
           "ticks": "",
           "title": {
            "standoff": 15
           },
           "zerolinecolor": "white",
           "zerolinewidth": 2
          }
         }
        },
        "xaxis": {
         "anchor": "y",
         "domain": [
          0,
          1
         ],
         "title": {
          "text": "Product_Category"
         }
        },
        "yaxis": {
         "anchor": "x",
         "domain": [
          0,
          1
         ],
         "title": {
          "text": "value"
         }
        }
       }
      }
     },
     "metadata": {},
     "output_type": "display_data"
    }
   ],
   "source": [
    "df_agrupado = df.groupby('Product_Category')[['Units_Sold']].sum().sort_values('Units_Sold', ascending=False)\n",
    "px.bar(data_frame=df_agrupado)"
   ]
  },
  {
   "cell_type": "markdown",
   "metadata": {},
   "source": [
    "# Adicionando coluna Final_Price após desconto"
   ]
  },
  {
   "cell_type": "code",
   "execution_count": 33,
   "metadata": {},
   "outputs": [
    {
     "data": {
      "text/html": [
       "<div>\n",
       "<style scoped>\n",
       "    .dataframe tbody tr th:only-of-type {\n",
       "        vertical-align: middle;\n",
       "    }\n",
       "\n",
       "    .dataframe tbody tr th {\n",
       "        vertical-align: top;\n",
       "    }\n",
       "\n",
       "    .dataframe thead th {\n",
       "        text-align: right;\n",
       "    }\n",
       "</style>\n",
       "<table border=\"1\" class=\"dataframe\">\n",
       "  <thead>\n",
       "    <tr style=\"text-align: right;\">\n",
       "      <th></th>\n",
       "      <th>Date</th>\n",
       "      <th>Product_Category</th>\n",
       "      <th>Price</th>\n",
       "      <th>Discount</th>\n",
       "      <th>Customer_Segment</th>\n",
       "      <th>Marketing_Spend</th>\n",
       "      <th>Units_Sold</th>\n",
       "      <th>Final_Price</th>\n",
       "    </tr>\n",
       "  </thead>\n",
       "  <tbody>\n",
       "    <tr>\n",
       "      <th>0</th>\n",
       "      <td>01-01-2023</td>\n",
       "      <td>Sports</td>\n",
       "      <td>932.80</td>\n",
       "      <td>35.82</td>\n",
       "      <td>Occasional</td>\n",
       "      <td>6780.38</td>\n",
       "      <td>32</td>\n",
       "      <td>598.671040</td>\n",
       "    </tr>\n",
       "    <tr>\n",
       "      <th>1</th>\n",
       "      <td>02-01-2023</td>\n",
       "      <td>Toys</td>\n",
       "      <td>569.48</td>\n",
       "      <td>3.60</td>\n",
       "      <td>Premium</td>\n",
       "      <td>6807.56</td>\n",
       "      <td>16</td>\n",
       "      <td>548.978720</td>\n",
       "    </tr>\n",
       "    <tr>\n",
       "      <th>2</th>\n",
       "      <td>03-01-2023</td>\n",
       "      <td>Home Decor</td>\n",
       "      <td>699.68</td>\n",
       "      <td>3.56</td>\n",
       "      <td>Premium</td>\n",
       "      <td>3793.91</td>\n",
       "      <td>27</td>\n",
       "      <td>674.771392</td>\n",
       "    </tr>\n",
       "    <tr>\n",
       "      <th>3</th>\n",
       "      <td>04-01-2023</td>\n",
       "      <td>Toys</td>\n",
       "      <td>923.27</td>\n",
       "      <td>0.61</td>\n",
       "      <td>Premium</td>\n",
       "      <td>9422.75</td>\n",
       "      <td>29</td>\n",
       "      <td>917.638053</td>\n",
       "    </tr>\n",
       "    <tr>\n",
       "      <th>4</th>\n",
       "      <td>05-01-2023</td>\n",
       "      <td>Toys</td>\n",
       "      <td>710.17</td>\n",
       "      <td>47.83</td>\n",
       "      <td>Premium</td>\n",
       "      <td>1756.83</td>\n",
       "      <td>17</td>\n",
       "      <td>370.495689</td>\n",
       "    </tr>\n",
       "    <tr>\n",
       "      <th>...</th>\n",
       "      <td>...</td>\n",
       "      <td>...</td>\n",
       "      <td>...</td>\n",
       "      <td>...</td>\n",
       "      <td>...</td>\n",
       "      <td>...</td>\n",
       "      <td>...</td>\n",
       "      <td>...</td>\n",
       "    </tr>\n",
       "    <tr>\n",
       "      <th>995</th>\n",
       "      <td>22-09-2025</td>\n",
       "      <td>Fashion</td>\n",
       "      <td>740.06</td>\n",
       "      <td>49.06</td>\n",
       "      <td>Regular</td>\n",
       "      <td>1890.83</td>\n",
       "      <td>34</td>\n",
       "      <td>376.986564</td>\n",
       "    </tr>\n",
       "    <tr>\n",
       "      <th>996</th>\n",
       "      <td>23-09-2025</td>\n",
       "      <td>Electronics</td>\n",
       "      <td>517.10</td>\n",
       "      <td>28.48</td>\n",
       "      <td>Premium</td>\n",
       "      <td>8011.66</td>\n",
       "      <td>21</td>\n",
       "      <td>369.829920</td>\n",
       "    </tr>\n",
       "    <tr>\n",
       "      <th>997</th>\n",
       "      <td>24-09-2025</td>\n",
       "      <td>Electronics</td>\n",
       "      <td>683.43</td>\n",
       "      <td>12.98</td>\n",
       "      <td>Occasional</td>\n",
       "      <td>3408.51</td>\n",
       "      <td>19</td>\n",
       "      <td>594.720786</td>\n",
       "    </tr>\n",
       "    <tr>\n",
       "      <th>998</th>\n",
       "      <td>25-09-2025</td>\n",
       "      <td>Sports</td>\n",
       "      <td>51.26</td>\n",
       "      <td>21.85</td>\n",
       "      <td>Occasional</td>\n",
       "      <td>7335.62</td>\n",
       "      <td>26</td>\n",
       "      <td>40.059690</td>\n",
       "    </tr>\n",
       "    <tr>\n",
       "      <th>999</th>\n",
       "      <td>26-09-2025</td>\n",
       "      <td>Home Decor</td>\n",
       "      <td>93.94</td>\n",
       "      <td>29.68</td>\n",
       "      <td>Regular</td>\n",
       "      <td>4258.11</td>\n",
       "      <td>39</td>\n",
       "      <td>66.058608</td>\n",
       "    </tr>\n",
       "  </tbody>\n",
       "</table>\n",
       "<p>1000 rows × 8 columns</p>\n",
       "</div>"
      ],
      "text/plain": [
       "           Date Product_Category   Price  Discount Customer_Segment  \\\n",
       "0    01-01-2023           Sports  932.80     35.82       Occasional   \n",
       "1    02-01-2023             Toys  569.48      3.60          Premium   \n",
       "2    03-01-2023       Home Decor  699.68      3.56          Premium   \n",
       "3    04-01-2023             Toys  923.27      0.61          Premium   \n",
       "4    05-01-2023             Toys  710.17     47.83          Premium   \n",
       "..          ...              ...     ...       ...              ...   \n",
       "995  22-09-2025          Fashion  740.06     49.06          Regular   \n",
       "996  23-09-2025      Electronics  517.10     28.48          Premium   \n",
       "997  24-09-2025      Electronics  683.43     12.98       Occasional   \n",
       "998  25-09-2025           Sports   51.26     21.85       Occasional   \n",
       "999  26-09-2025       Home Decor   93.94     29.68          Regular   \n",
       "\n",
       "     Marketing_Spend  Units_Sold  Final_Price  \n",
       "0            6780.38          32   598.671040  \n",
       "1            6807.56          16   548.978720  \n",
       "2            3793.91          27   674.771392  \n",
       "3            9422.75          29   917.638053  \n",
       "4            1756.83          17   370.495689  \n",
       "..               ...         ...          ...  \n",
       "995          1890.83          34   376.986564  \n",
       "996          8011.66          21   369.829920  \n",
       "997          3408.51          19   594.720786  \n",
       "998          7335.62          26    40.059690  \n",
       "999          4258.11          39    66.058608  \n",
       "\n",
       "[1000 rows x 8 columns]"
      ]
     },
     "execution_count": 33,
     "metadata": {},
     "output_type": "execute_result"
    }
   ],
   "source": [
    "df['Final_Price'] = df['Price'] - (df['Price'] * (df['Discount'] / 100))\n",
    "df"
   ]
  }
 ],
 "metadata": {
  "kernelspec": {
   "display_name": "base",
   "language": "python",
   "name": "python3"
  },
  "language_info": {
   "codemirror_mode": {
    "name": "ipython",
    "version": 3
   },
   "file_extension": ".py",
   "mimetype": "text/x-python",
   "name": "python",
   "nbconvert_exporter": "python",
   "pygments_lexer": "ipython3",
   "version": "3.12.7"
  }
 },
 "nbformat": 4,
 "nbformat_minor": 2
}
